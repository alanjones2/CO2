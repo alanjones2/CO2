{
 "cells": [
  {
   "cell_type": "code",
   "execution_count": 2,
   "metadata": {},
   "outputs": [],
   "source": [
    "import pandas as pd\n",
    "df = pd.read_csv(\"data/global-co2-fossil-plus-land-use.csv\")"
   ]
  },
  {
   "cell_type": "code",
   "execution_count": 5,
   "metadata": {},
   "outputs": [],
   "source": [
    "countries = {'Afghanistan', 'Aland Islands',\n",
    "       'Albania', 'Algeria', 'American Samoa', 'Andorra', 'Angola',\n",
    "       'Anguilla', 'Antarctica', 'Antigua and Barbuda', 'Argentina',\n",
    "       'Armenia', 'Aruba', 'Australia', 'Austria',\n",
    "       'Azerbaijan', 'Bahamas', 'Bahrain', 'Bangladesh', 'Barbados',\n",
    "       'Belarus', 'Belgium', 'Belize', 'Benin', 'Bermuda', 'Bhutan',\n",
    "       'Bolivia', 'Bonaire Sint Eustatius and Saba',\n",
    "       'Bosnia and Herzegovina', 'Botswana', 'Brazil',\n",
    "       'British Virgin Islands', 'Brunei', 'Bulgaria', 'Burkina Faso',\n",
    "       'Burundi', 'Cambodia', 'Cameroon', 'Canada', 'Cape Verde',\n",
    "       'Central African Republic', 'Chad',\n",
    "       'Chile', 'China', 'Christmas Island', 'Colombia', 'Comoros',\n",
    "       'Congo', 'Cook Islands', 'Costa Rica', \"Cote d'Ivoire\", 'Croatia',\n",
    "       'Cuba', 'Curacao', 'Cyprus', 'Czechia',\n",
    "       'Democratic Republic of Congo', 'Denmark', 'Djibouti', 'Dominica',\n",
    "       'Dominican Republic', 'Ecuador', 'Egypt', 'El Salvador',\n",
    "       'Equatorial Guinea', 'Eritrea', 'Estonia', 'Eswatini', 'Ethiopia',\n",
    "       'Faeroe Islands', 'Falkland Islands', 'Fiji', 'Finland', 'France', \n",
    "       'French Guiana',\n",
    "       'French Polynesia',  'Gabon', 'Gambia',\n",
    "       'Georgia', 'Germany', 'Ghana', 'Greece', 'Greenland', 'Grenada',\n",
    "       'Guadeloupe', 'Guatemala', 'Guernsey', 'Guinea', 'Guinea-Bissau',\n",
    "       'Guyana', 'Haiti', 'Honduras',\n",
    "       'Hong Kong', 'Hungary', 'Iceland', 'India', 'Indonesia',\n",
    "       'Iran', 'Iraq', 'Ireland',\n",
    "       'Isle of Man', 'Israel', 'Italy', 'Jamaica', 'Japan', 'Jersey',\n",
    "       'Jordan', 'Kazakhstan', 'Kenya', 'Kiribati', 'Kosovo', 'Kuwait',\n",
    "       'Kyrgyzstan', 'Laos', 'Latvia',\n",
    "       'Lebanon', 'Leeward Islands (GCP)', 'Lesotho', 'Liberia', 'Libya',\n",
    "       'Liechtenstein', 'Lithuania', 'Luxembourg', 'Macao',\n",
    "       'Madagascar', 'Malawi', 'Malaysia', 'Maldives', 'Mali', 'Malta',\n",
    "       'Marshall Islands', 'Martinique', 'Mauritania', 'Mauritius',\n",
    "       'Mayotte', 'Mexico', 'Micronesia (country)',\n",
    "       'Moldova', 'Mongolia', 'Montenegro', 'Montserrat', 'Morocco',\n",
    "       'Mozambique', 'Myanmar', 'Namibia', 'Nauru', 'Nepal',\n",
    "       'Netherlands', 'Netherlands Antilles', 'New Caledonia',\n",
    "       'New Zealand', 'Nicaragua', 'Niger', 'Nigeria', 'Niue',\n",
    "       'North Korea', 'North Macedonia',\n",
    "       'Norway', 'Oman',\n",
    "       'Pakistan', 'Palau', 'Palestine', 'Panama',\n",
    "       'Papua New Guinea', 'Paraguay', 'Peru',\n",
    "       'Philippines', 'Poland', 'Portugal', 'Puerto Rico', 'Qatar',\n",
    "       'Reunion', 'Romania', 'Russia', 'Rwanda', \n",
    "       'Saint Helena', 'Saint Kitts and Nevis', 'Saint Lucia',\n",
    "       'Saint Martin (French part)', 'Saint Pierre and Miquelon',\n",
    "       'Saint Vincent and the Grenadines', 'Samoa',\n",
    "       'Sao Tome and Principe', 'Saudi Arabia', 'Senegal', 'Serbia',\n",
    "       'Seychelles', 'Sierra Leone', 'Singapore',\n",
    "       'Sint Maarten (Dutch part)', 'Slovakia', 'Slovenia',\n",
    "       'Solomon Islands', 'Somalia', 'South Africa', 'South Korea', 'South Sudan', 'Spain',\n",
    "       'Sri Lanka', 'St. Kitts-Nevis-Anguilla (GCP)', 'Sudan', 'Suriname',\n",
    "       'Svalbard and Jan Mayen', 'Sweden', 'Switzerland', 'Syria',\n",
    "       'Taiwan', 'Tajikistan', 'Tanzania', 'Thailand', 'Timor', 'Togo',\n",
    "       'Tonga', 'Trinidad and Tobago', 'Tunisia', 'Turkey',\n",
    "       'Turkmenistan', 'Turks and Caicos Islands', 'Tuvalu', 'Uganda',\n",
    "       'Ukraine', 'United Arab Emirates', 'United Kingdom',\n",
    "       'United States', 'United States Virgin Islands', 'Uruguay', 'Uzbekistan',\n",
    "       'Vanuatu', 'Venezuela', 'Vietnam', 'Wallis and Futuna',\n",
    "       'Western Sahara', 'World', 'Yemen', 'Zambia', 'Zimbabwe'}\n",
    "\n",
    "continents = {'Africa',\n",
    " 'Asia',\n",
    " 'Central America (GCP)',\n",
    " 'Europe',\n",
    " 'European Union (27)',\n",
    " 'North America',\n",
    " 'South America'\n",
    "}\n",
    "\n",
    "income_types = {\n",
    " 'High-income countries',\n",
    " 'Low-income countries',\n",
    " 'Lower-middle-income countries',\n",
    " 'Upper-middle-income countries'}\n"
   ]
  },
  {
   "cell_type": "code",
   "execution_count": 4,
   "metadata": {},
   "outputs": [],
   "source": [
    "df[df['Entity'].isin(countries)].to_csv(\"data/countries_df.csv\", index=False) \n",
    "df[df['Entity'].isin(continents)].to_csv(\"data/continents_df.csv\", index=False) \n",
    "df[df['Entity'].isin(income_types)].to_csv(\"data/income_types_df.csv\", index=False) "
   ]
  }
 ],
 "metadata": {
  "kernelspec": {
   "display_name": "Python 3.9.8 64-bit",
   "language": "python",
   "name": "python3"
  },
  "language_info": {
   "codemirror_mode": {
    "name": "ipython",
    "version": 3
   },
   "file_extension": ".py",
   "mimetype": "text/x-python",
   "name": "python",
   "nbconvert_exporter": "python",
   "pygments_lexer": "ipython3",
   "version": "3.9.8"
  },
  "orig_nbformat": 4,
  "vscode": {
   "interpreter": {
    "hash": "a8a7bd8979a4457ff10482144eb93e8faf46b7074b382aab52ae0a11e763accd"
   }
  }
 },
 "nbformat": 4,
 "nbformat_minor": 2
}
